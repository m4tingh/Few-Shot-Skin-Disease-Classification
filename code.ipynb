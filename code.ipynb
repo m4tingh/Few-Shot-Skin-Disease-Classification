{
 "cells": [
  {
   "cell_type": "code",
   "execution_count": null,
   "id": "1de4b733",
   "metadata": {},
   "outputs": [],
   "source": [
    "# Download latest version of dataset\n",
    "\n",
    "import kagglehub\n",
    "\n",
    "path = kagglehub.dataset_download(\"riyaelizashaju/isic-skin-disease-image-dataset-labelled\")\n",
    "\n",
    "print(\"Path to dataset files:\", path)"
   ]
  }
 ],
 "metadata": {
  "language_info": {
   "name": "python"
  }
 },
 "nbformat": 4,
 "nbformat_minor": 5
}
