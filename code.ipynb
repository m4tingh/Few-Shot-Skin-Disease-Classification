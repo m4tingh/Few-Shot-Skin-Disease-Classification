{
 "cells": [
  {
   "cell_type": "code",
   "execution_count": null,
   "id": "1de4b733",
   "metadata": {},
   "outputs": [],
   "source": [
    "# Download latest version of dataset\n",
    "\n",
    "import kagglehub\n",
    "\n",
    "path = kagglehub.dataset_download(\"riyaelizashaju/isic-skin-disease-image-dataset-labelled\")\n",
    "\n",
    "print(\"Path to dataset files:\", path)"
   ]
  },
  {
   "cell_type": "code",
   "execution_count": null,
   "id": "43c9f772",
   "metadata": {},
   "outputs": [],
   "source": [
    "#resize pictures\n",
    "\n",
    "import os\n",
    "from PIL import Image\n",
    "\n",
    "\n",
    "files = FILE PATH\n",
    "for filename in os.listdir(files):\n",
    "  pic_file = os.path.join(files, filename)\n",
    "  for pic in os.listdir(pic_file):\n",
    "    image = Image.open(os.path.join(pic_file, pic))\n",
    "    new_image = image.resize((224, 224))\n",
    "    output_dir = f\"resize/{filename}\"\n",
    "    os.makedirs(output_dir, exist_ok=True)\n",
    "    new_image.save(f\"{output_dir}/{pic}\")\n"
   ]
  }
 ],
 "metadata": {
  "kernelspec": {
   "display_name": "Python 3",
   "language": "python",
   "name": "python3"
  },
  "language_info": {
   "codemirror_mode": {
    "name": "ipython",
    "version": 3
   },
   "file_extension": ".py",
   "mimetype": "text/x-python",
   "name": "python",
   "nbconvert_exporter": "python",
   "pygments_lexer": "ipython3",
   "version": "3.12.7"
  }
 },
 "nbformat": 4,
 "nbformat_minor": 5
}
