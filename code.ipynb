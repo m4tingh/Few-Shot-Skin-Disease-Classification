{
 "cells": [
  {
   "cell_type": "markdown",
   "id": "04d22516",
   "metadata": {},
   "source": [
    "# The notebook runs on Google Colab environment"
   ]
  },
  {
   "cell_type": "code",
   "execution_count": null,
   "id": "1de4b733",
   "metadata": {},
   "outputs": [],
   "source": [
    "# Download latest version of dataset\n",
    "\n",
    "import kagglehub\n",
    "\n",
    "path = kagglehub.dataset_download(\"riyaelizashaju/isic-skin-disease-image-dataset-labelled\")\n",
    "\n",
    "print(\"Path to dataset files:\", path)"
   ]
  },
  {
   "cell_type": "code",
   "execution_count": null,
   "id": "43c9f772",
   "metadata": {},
   "outputs": [],
   "source": [
    "#resize pictures\n",
    "import os\n",
    "from PIL import Image\n",
    "\n",
    "\n",
    "files = \"/root/.cache/kagglehub/datasets/riyaelizashaju/isic-skin-disease-image-dataset-labelled/versions/1/ISIC_Labelled/\"\n",
    "for filename in os.listdir(files):\n",
    "  pic_file = os.path.join(files, filename)\n",
    "  for pic in os.listdir(pic_file):\n",
    "    image = Image.open(os.path.join(pic_file, pic))\n",
    "    new_image = image.resize((224, 224))\n",
    "    output_dir = f\"resize/{filename}\"\n",
    "    os.makedirs(output_dir, exist_ok=True)\n",
    "    new_image.save(f\"{output_dir}/{pic}\")\n",
    "    #if you have a low space, use the code blow to delete pictures after resize\n",
    "    #os.remove(os.path.join(pic_file, pic))"
   ]
  },
  {
   "cell_type": "code",
   "execution_count": null,
   "id": "e61390d7",
   "metadata": {},
   "outputs": [],
   "source": [
    "#Normalize 5 random pictures from any classes\n",
    "from torchvision import transforms\n",
    "import os, random\n",
    "from PIL import Image\n",
    "\n",
    "def Normalizer():\n",
    "    transform = transforms.Compose([\n",
    "        transforms.ToTensor(),\n",
    "        transforms.Normalize(mean=[0.485, 0.456, 0.406],\n",
    "                            std=[0.229, 0.224, 0.225])\n",
    "    ])\n",
    "\n",
    "    folders = \"/content/resize/\"\n",
    "    for folder in os.listdir(folders):\n",
    "      fo_imgs = os.path.join(folders, folder)\n",
    "      pics = os.listdir(fo_imgs)\n",
    "      chosen = random.sample(pics, 5)\n",
    "      for pic in chosen:\n",
    "        image = os.path.join(fo_imgs, pic)\n",
    "        img = Image.open(image)\n",
    "        tensor = transform(img)"
   ]
  }
 ],
 "metadata": {
  "kernelspec": {
   "display_name": "Python 3",
   "language": "python",
   "name": "python3"
  },
  "language_info": {
   "codemirror_mode": {
    "name": "ipython",
    "version": 3
   },
   "file_extension": ".py",
   "mimetype": "text/x-python",
   "name": "python",
   "nbconvert_exporter": "python",
   "pygments_lexer": "ipython3",
   "version": "3.12.7"
  }
 },
 "nbformat": 4,
 "nbformat_minor": 5
}
